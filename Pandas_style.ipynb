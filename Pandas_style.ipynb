{
 "cells": [
  {
   "cell_type": "code",
   "execution_count": 65,
   "metadata": {},
   "outputs": [],
   "source": [
    "import pandas as pd\n",
    "import numpy as np"
   ]
  },
  {
   "cell_type": "code",
   "execution_count": 66,
   "metadata": {},
   "outputs": [],
   "source": [
    "data = np.random.uniform(low=0, high=1000, size=(5, 5))\n",
    "df = pd.DataFrame(data, columns=['Column_1', 'Column_2', 'Column_3', 'Column_4', 'Column_5'])"
   ]
  },
  {
   "attachments": {},
   "cell_type": "markdown",
   "metadata": {},
   "source": [
    "# Add summary stat below table in 🐼"
   ]
  },
  {
   "cell_type": "code",
   "execution_count": 79,
   "metadata": {},
   "outputs": [
    {
     "data": {
      "text/html": [
       "<style type=\"text/css\">\n",
       "#T_7127d_foot0_row0_col0, #T_7127d_foot0_row1_col0 {\n",
       "  background-color: #7699f6;\n",
       "  color: #f1f1f1;\n",
       "}\n",
       "#T_7127d_foot0_row0_col1, #T_7127d_foot0_row1_col1 {\n",
       "  background-color: #b40426;\n",
       "  color: #f1f1f1;\n",
       "}\n",
       "#T_7127d_foot0_row0_col2, #T_7127d_foot0_row1_col2 {\n",
       "  background-color: #cdd9ec;\n",
       "  color: #000000;\n",
       "}\n",
       "#T_7127d_foot0_row0_col3, #T_7127d_foot0_row1_col3 {\n",
       "  background-color: #3b4cc0;\n",
       "  color: #f1f1f1;\n",
       "}\n",
       "#T_7127d_foot0_row0_col4, #T_7127d_foot0_row1_col4 {\n",
       "  background-color: #f59c7d;\n",
       "  color: #000000;\n",
       "}\n",
       "</style>\n",
       "<table id=\"T_7127d\">\n",
       "  <thead>\n",
       "    <tr>\n",
       "      <th class=\"blank level0\" >&nbsp;</th>\n",
       "      <th id=\"T_7127d_level0_col0\" class=\"col_heading level0 col0\" >Column_1</th>\n",
       "      <th id=\"T_7127d_level0_col1\" class=\"col_heading level0 col1\" >Column_2</th>\n",
       "      <th id=\"T_7127d_level0_col2\" class=\"col_heading level0 col2\" >Column_3</th>\n",
       "      <th id=\"T_7127d_level0_col3\" class=\"col_heading level0 col3\" >Column_4</th>\n",
       "      <th id=\"T_7127d_level0_col4\" class=\"col_heading level0 col4\" >Column_5</th>\n",
       "    </tr>\n",
       "  </thead>\n",
       "  <tbody>\n",
       "    <tr>\n",
       "      <th id=\"T_7127d_level0_row0\" class=\"row_heading level0 row0\" >0</th>\n",
       "      <td id=\"T_7127d_row0_col0\" class=\"data row0 col0\" >15.313362</td>\n",
       "      <td id=\"T_7127d_row0_col1\" class=\"data row0 col1\" >741.785726</td>\n",
       "      <td id=\"T_7127d_row0_col2\" class=\"data row0 col2\" >409.876993</td>\n",
       "      <td id=\"T_7127d_row0_col3\" class=\"data row0 col3\" >423.879046</td>\n",
       "      <td id=\"T_7127d_row0_col4\" class=\"data row0 col4\" >329.909965</td>\n",
       "    </tr>\n",
       "    <tr>\n",
       "      <th id=\"T_7127d_level0_row1\" class=\"row_heading level0 row1\" >1</th>\n",
       "      <td id=\"T_7127d_row1_col0\" class=\"data row1 col0\" >813.634144</td>\n",
       "      <td id=\"T_7127d_row1_col1\" class=\"data row1 col1\" >332.400484</td>\n",
       "      <td id=\"T_7127d_row1_col2\" class=\"data row1 col2\" >161.967994</td>\n",
       "      <td id=\"T_7127d_row1_col3\" class=\"data row1 col3\" >19.215429</td>\n",
       "      <td id=\"T_7127d_row1_col4\" class=\"data row1 col4\" >721.652553</td>\n",
       "    </tr>\n",
       "    <tr>\n",
       "      <th id=\"T_7127d_level0_row2\" class=\"row_heading level0 row2\" >2</th>\n",
       "      <td id=\"T_7127d_row2_col0\" class=\"data row2 col0\" >187.624194</td>\n",
       "      <td id=\"T_7127d_row2_col1\" class=\"data row2 col1\" >339.973718</td>\n",
       "      <td id=\"T_7127d_row2_col2\" class=\"data row2 col2\" >646.554716</td>\n",
       "      <td id=\"T_7127d_row2_col3\" class=\"data row2 col3\" >566.415379</td>\n",
       "      <td id=\"T_7127d_row2_col4\" class=\"data row2 col4\" >412.122305</td>\n",
       "    </tr>\n",
       "    <tr>\n",
       "      <th id=\"T_7127d_level0_row3\" class=\"row_heading level0 row3\" >3</th>\n",
       "      <td id=\"T_7127d_row3_col0\" class=\"data row3 col0\" >271.063458</td>\n",
       "      <td id=\"T_7127d_row3_col1\" class=\"data row3 col1\" >838.926684</td>\n",
       "      <td id=\"T_7127d_row3_col2\" class=\"data row3 col2\" >879.247935</td>\n",
       "      <td id=\"T_7127d_row3_col3\" class=\"data row3 col3\" >215.601907</td>\n",
       "      <td id=\"T_7127d_row3_col4\" class=\"data row3 col4\" >595.305571</td>\n",
       "    </tr>\n",
       "    <tr>\n",
       "      <th id=\"T_7127d_level0_row4\" class=\"row_heading level0 row4\" >4</th>\n",
       "      <td id=\"T_7127d_row4_col0\" class=\"data row4 col0\" >855.527124</td>\n",
       "      <td id=\"T_7127d_row4_col1\" class=\"data row4 col1\" >731.895348</td>\n",
       "      <td id=\"T_7127d_row4_col2\" class=\"data row4 col2\" >313.889930</td>\n",
       "      <td id=\"T_7127d_row4_col3\" class=\"data row4 col3\" >728.489576</td>\n",
       "      <td id=\"T_7127d_row4_col4\" class=\"data row4 col4\" >662.578259</td>\n",
       "    </tr>\n",
       "    <tr>\n",
       "      <th id=\"T_7127d_level0_foot0_row0\" class=\"foot0_row_heading level0 foot0_row0\" >Sum</th>\n",
       "      <td id=\"T_7127d_foot0_row0_col0\" class=\"foot0_data foot0_row0 col0\" >2143.16</td>\n",
       "      <td id=\"T_7127d_foot0_row0_col1\" class=\"foot0_data foot0_row0 col1\" >2984.98</td>\n",
       "      <td id=\"T_7127d_foot0_row0_col2\" class=\"foot0_data foot0_row0 col2\" >2411.54</td>\n",
       "      <td id=\"T_7127d_foot0_row0_col3\" class=\"foot0_data foot0_row0 col3\" >1953.60</td>\n",
       "      <td id=\"T_7127d_foot0_row0_col4\" class=\"foot0_data foot0_row0 col4\" >2721.57</td>\n",
       "    </tr>\n",
       "    <tr>\n",
       "      <th id=\"T_7127d_level0_foot0_row1\" class=\"foot0_row_heading level0 foot0_row1\" >Average</th>\n",
       "      <td id=\"T_7127d_foot0_row1_col0\" class=\"foot0_data foot0_row1 col0\" >428.63</td>\n",
       "      <td id=\"T_7127d_foot0_row1_col1\" class=\"foot0_data foot0_row1 col1\" >597.00</td>\n",
       "      <td id=\"T_7127d_foot0_row1_col2\" class=\"foot0_data foot0_row1 col2\" >482.31</td>\n",
       "      <td id=\"T_7127d_foot0_row1_col3\" class=\"foot0_data foot0_row1 col3\" >390.72</td>\n",
       "      <td id=\"T_7127d_foot0_row1_col4\" class=\"foot0_data foot0_row1 col4\" >544.31</td>\n",
       "    </tr>\n",
       "  </tbody>\n",
       "</table>\n"
      ],
      "text/plain": [
       "<pandas.io.formats.style.Styler at 0x1ea5c45e410>"
      ]
     },
     "execution_count": 79,
     "metadata": {},
     "output_type": "execute_result"
    }
   ],
   "source": [
    "summary_stat = (df.agg([\"sum\", \"mean\"])\n",
    "                .style.relabel_index([\"Sum\", \"Average\"])\n",
    "                .format(precision=2)\n",
    "                .background_gradient(axis=1, cmap='coolwarm')\n",
    ")\n",
    "\n",
    "df.style.concat(summary_stat)"
   ]
  }
 ],
 "metadata": {
  "kernelspec": {
   "display_name": "dse",
   "language": "python",
   "name": "python3"
  },
  "language_info": {
   "codemirror_mode": {
    "name": "ipython",
    "version": 3
   },
   "file_extension": ".py",
   "mimetype": "text/x-python",
   "name": "python",
   "nbconvert_exporter": "python",
   "pygments_lexer": "ipython3",
   "version": "3.11.3"
  },
  "orig_nbformat": 4
 },
 "nbformat": 4,
 "nbformat_minor": 2
}
