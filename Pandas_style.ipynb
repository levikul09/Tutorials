{
 "cells": [
  {
   "cell_type": "code",
   "execution_count": 2,
   "metadata": {},
   "outputs": [],
   "source": [
    "import pandas as pd\n",
    "import numpy as np"
   ]
  },
  {
   "attachments": {},
   "cell_type": "markdown",
   "metadata": {},
   "source": [
    "# Add summary stat below table in 🐼"
   ]
  },
  {
   "cell_type": "code",
   "execution_count": 3,
   "metadata": {},
   "outputs": [],
   "source": [
    "data = np.random.uniform(low=0, high=1000, size=(5, 5))\n",
    "df = pd.DataFrame(data, columns=['Column_1', 'Column_2', 'Column_3', 'Column_4', 'Column_5'])"
   ]
  },
  {
   "cell_type": "code",
   "execution_count": 7,
   "metadata": {},
   "outputs": [
    {
     "data": {
      "text/html": [
       "<style type=\"text/css\">\n",
       "#T_ef257_foot0_row0_col0, #T_ef257_foot0_row1_col0 {\n",
       "  background-color: #ebf7e7;\n",
       "  color: #000000;\n",
       "}\n",
       "#T_ef257_foot0_row0_col1, #T_ef257_foot0_row1_col1 {\n",
       "  background-color: #f7fcf5;\n",
       "  color: #000000;\n",
       "}\n",
       "#T_ef257_foot0_row0_col2, #T_ef257_foot0_row1_col2 {\n",
       "  background-color: #68be70;\n",
       "  color: #000000;\n",
       "}\n",
       "#T_ef257_foot0_row0_col3, #T_ef257_foot0_row1_col3 {\n",
       "  background-color: #00441b;\n",
       "  color: #f1f1f1;\n",
       "}\n",
       "#T_ef257_foot0_row0_col4, #T_ef257_foot0_row1_col4 {\n",
       "  background-color: #268e47;\n",
       "  color: #f1f1f1;\n",
       "}\n",
       "</style>\n",
       "<table id=\"T_ef257\">\n",
       "  <thead>\n",
       "    <tr>\n",
       "      <th class=\"blank level0\" >&nbsp;</th>\n",
       "      <th id=\"T_ef257_level0_col0\" class=\"col_heading level0 col0\" >Column_1</th>\n",
       "      <th id=\"T_ef257_level0_col1\" class=\"col_heading level0 col1\" >Column_2</th>\n",
       "      <th id=\"T_ef257_level0_col2\" class=\"col_heading level0 col2\" >Column_3</th>\n",
       "      <th id=\"T_ef257_level0_col3\" class=\"col_heading level0 col3\" >Column_4</th>\n",
       "      <th id=\"T_ef257_level0_col4\" class=\"col_heading level0 col4\" >Column_5</th>\n",
       "    </tr>\n",
       "  </thead>\n",
       "  <tbody>\n",
       "    <tr>\n",
       "      <th id=\"T_ef257_level0_row0\" class=\"row_heading level0 row0\" >0</th>\n",
       "      <td id=\"T_ef257_row0_col0\" class=\"data row0 col0\" >595.397983</td>\n",
       "      <td id=\"T_ef257_row0_col1\" class=\"data row0 col1\" >7.879124</td>\n",
       "      <td id=\"T_ef257_row0_col2\" class=\"data row0 col2\" >692.800846</td>\n",
       "      <td id=\"T_ef257_row0_col3\" class=\"data row0 col3\" >926.095573</td>\n",
       "      <td id=\"T_ef257_row0_col4\" class=\"data row0 col4\" >549.370054</td>\n",
       "    </tr>\n",
       "    <tr>\n",
       "      <th id=\"T_ef257_level0_row1\" class=\"row_heading level0 row1\" >1</th>\n",
       "      <td id=\"T_ef257_row1_col0\" class=\"data row1 col0\" >768.943493</td>\n",
       "      <td id=\"T_ef257_row1_col1\" class=\"data row1 col1\" >198.094985</td>\n",
       "      <td id=\"T_ef257_row1_col2\" class=\"data row1 col2\" >678.912361</td>\n",
       "      <td id=\"T_ef257_row1_col3\" class=\"data row1 col3\" >937.936236</td>\n",
       "      <td id=\"T_ef257_row1_col4\" class=\"data row1 col4\" >398.734933</td>\n",
       "    </tr>\n",
       "    <tr>\n",
       "      <th id=\"T_ef257_level0_row2\" class=\"row_heading level0 row2\" >2</th>\n",
       "      <td id=\"T_ef257_row2_col0\" class=\"data row2 col0\" >89.747349</td>\n",
       "      <td id=\"T_ef257_row2_col1\" class=\"data row2 col1\" >410.024572</td>\n",
       "      <td id=\"T_ef257_row2_col2\" class=\"data row2 col2\" >449.270270</td>\n",
       "      <td id=\"T_ef257_row2_col3\" class=\"data row2 col3\" >903.780204</td>\n",
       "      <td id=\"T_ef257_row2_col4\" class=\"data row2 col4\" >974.219360</td>\n",
       "    </tr>\n",
       "    <tr>\n",
       "      <th id=\"T_ef257_level0_row3\" class=\"row_heading level0 row3\" >3</th>\n",
       "      <td id=\"T_ef257_row3_col0\" class=\"data row3 col0\" >253.801072</td>\n",
       "      <td id=\"T_ef257_row3_col1\" class=\"data row3 col1\" >563.937318</td>\n",
       "      <td id=\"T_ef257_row3_col2\" class=\"data row3 col2\" >878.656066</td>\n",
       "      <td id=\"T_ef257_row3_col3\" class=\"data row3 col3\" >77.825439</td>\n",
       "      <td id=\"T_ef257_row3_col4\" class=\"data row3 col4\" >539.792920</td>\n",
       "    </tr>\n",
       "    <tr>\n",
       "      <th id=\"T_ef257_level0_row4\" class=\"row_heading level0 row4\" >4</th>\n",
       "      <td id=\"T_ef257_row4_col0\" class=\"data row4 col0\" >270.382816</td>\n",
       "      <td id=\"T_ef257_row4_col1\" class=\"data row4 col1\" >660.918917</td>\n",
       "      <td id=\"T_ef257_row4_col2\" class=\"data row4 col2\" >2.919894</td>\n",
       "      <td id=\"T_ef257_row4_col3\" class=\"data row4 col3\" >628.548702</td>\n",
       "      <td id=\"T_ef257_row4_col4\" class=\"data row4 col4\" >581.229056</td>\n",
       "    </tr>\n",
       "    <tr>\n",
       "      <th id=\"T_ef257_level0_foot0_row0\" class=\"foot0_row_heading level0 foot0_row0\" >Sum</th>\n",
       "      <td id=\"T_ef257_foot0_row0_col0\" class=\"foot0_data foot0_row0 col0\" >1978.27</td>\n",
       "      <td id=\"T_ef257_foot0_row0_col1\" class=\"foot0_data foot0_row0 col1\" >1840.85</td>\n",
       "      <td id=\"T_ef257_foot0_row0_col2\" class=\"foot0_data foot0_row0 col2\" >2702.56</td>\n",
       "      <td id=\"T_ef257_foot0_row0_col3\" class=\"foot0_data foot0_row0 col3\" >3474.19</td>\n",
       "      <td id=\"T_ef257_foot0_row0_col4\" class=\"foot0_data foot0_row0 col4\" >3043.35</td>\n",
       "    </tr>\n",
       "    <tr>\n",
       "      <th id=\"T_ef257_level0_foot0_row1\" class=\"foot0_row_heading level0 foot0_row1\" >Average</th>\n",
       "      <td id=\"T_ef257_foot0_row1_col0\" class=\"foot0_data foot0_row1 col0\" >395.65</td>\n",
       "      <td id=\"T_ef257_foot0_row1_col1\" class=\"foot0_data foot0_row1 col1\" >368.17</td>\n",
       "      <td id=\"T_ef257_foot0_row1_col2\" class=\"foot0_data foot0_row1 col2\" >540.51</td>\n",
       "      <td id=\"T_ef257_foot0_row1_col3\" class=\"foot0_data foot0_row1 col3\" >694.84</td>\n",
       "      <td id=\"T_ef257_foot0_row1_col4\" class=\"foot0_data foot0_row1 col4\" >608.67</td>\n",
       "    </tr>\n",
       "  </tbody>\n",
       "</table>\n"
      ],
      "text/plain": [
       "<pandas.io.formats.style.Styler at 0x21883c01cd0>"
      ]
     },
     "execution_count": 7,
     "metadata": {},
     "output_type": "execute_result"
    }
   ],
   "source": [
    "summary_stat = (df.agg([\"sum\", \"mean\"])\n",
    "                .style.relabel_index([\"Sum\", \"Average\"])\n",
    "                .format(precision=2)\n",
    "                .background_gradient(axis=1, cmap='Greens')\n",
    ")\n",
    "\n",
    "df.style.concat(summary_stat)"
   ]
  }
 ],
 "metadata": {
  "kernelspec": {
   "display_name": "dse",
   "language": "python",
   "name": "python3"
  },
  "language_info": {
   "codemirror_mode": {
    "name": "ipython",
    "version": 3
   },
   "file_extension": ".py",
   "mimetype": "text/x-python",
   "name": "python",
   "nbconvert_exporter": "python",
   "pygments_lexer": "ipython3",
   "version": "3.11.3"
  },
  "orig_nbformat": 4
 },
 "nbformat": 4,
 "nbformat_minor": 2
}
