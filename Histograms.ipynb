{
 "cells": [
  {
   "cell_type": "markdown",
   "metadata": {},
   "source": [
    "# Check out my related post [here](https://open.substack.com/pub/datagroundup/p/everything-about-histograms?r=18swpa&utm_campaign=post&utm_medium=web&showWelcomeOnShare=true)"
   ]
  },
  {
   "cell_type": "code",
   "execution_count": 59,
   "metadata": {},
   "outputs": [],
   "source": [
    "import numpy as np\n",
    "import matplotlib.pyplot as plt\n",
    "import pandas as pd\n",
    "\n",
    "df = pd.read_csv(\"Top_650_FIFA.csv\")\n",
    "\n",
    "# https://www.kaggle.com/datasets/madhurpant/top-650-fifa-22-players-simplified\n"
   ]
  },
  {
   "cell_type": "code",
   "execution_count": 60,
   "metadata": {},
   "outputs": [
    {
     "data": {
      "text/html": [
       "<div>\n",
       "<style scoped>\n",
       "    .dataframe tbody tr th:only-of-type {\n",
       "        vertical-align: middle;\n",
       "    }\n",
       "\n",
       "    .dataframe tbody tr th {\n",
       "        vertical-align: top;\n",
       "    }\n",
       "\n",
       "    .dataframe thead th {\n",
       "        text-align: right;\n",
       "    }\n",
       "</style>\n",
       "<table border=\"1\" class=\"dataframe\">\n",
       "  <thead>\n",
       "    <tr style=\"text-align: right;\">\n",
       "      <th></th>\n",
       "      <th>Unnamed: 0</th>\n",
       "      <th>short_name</th>\n",
       "      <th>long_name</th>\n",
       "      <th>overall</th>\n",
       "      <th>age</th>\n",
       "      <th>dob</th>\n",
       "      <th>height_cm</th>\n",
       "      <th>weight_kg</th>\n",
       "      <th>club_position</th>\n",
       "      <th>Position</th>\n",
       "      <th>...</th>\n",
       "      <th>shooting</th>\n",
       "      <th>passing</th>\n",
       "      <th>dribbling</th>\n",
       "      <th>defending</th>\n",
       "      <th>physic</th>\n",
       "      <th>attacking</th>\n",
       "      <th>skill</th>\n",
       "      <th>movement</th>\n",
       "      <th>power</th>\n",
       "      <th>mentality</th>\n",
       "    </tr>\n",
       "  </thead>\n",
       "  <tbody>\n",
       "    <tr>\n",
       "      <th>0</th>\n",
       "      <td>0</td>\n",
       "      <td>L. Messi</td>\n",
       "      <td>Lionel Andrés Messi Cuccittini</td>\n",
       "      <td>93</td>\n",
       "      <td>34</td>\n",
       "      <td>1987-06-24</td>\n",
       "      <td>170</td>\n",
       "      <td>72</td>\n",
       "      <td>RW</td>\n",
       "      <td>Forward</td>\n",
       "      <td>...</td>\n",
       "      <td>92.0</td>\n",
       "      <td>91.0</td>\n",
       "      <td>95.0</td>\n",
       "      <td>34.0</td>\n",
       "      <td>65.0</td>\n",
       "      <td>85.8</td>\n",
       "      <td>94.0</td>\n",
       "      <td>90.2</td>\n",
       "      <td>77.8</td>\n",
       "      <td>73.833333</td>\n",
       "    </tr>\n",
       "    <tr>\n",
       "      <th>1</th>\n",
       "      <td>1</td>\n",
       "      <td>R. Lewandowski</td>\n",
       "      <td>Robert Lewandowski</td>\n",
       "      <td>92</td>\n",
       "      <td>32</td>\n",
       "      <td>1988-08-21</td>\n",
       "      <td>185</td>\n",
       "      <td>81</td>\n",
       "      <td>ST</td>\n",
       "      <td>Forward</td>\n",
       "      <td>...</td>\n",
       "      <td>92.0</td>\n",
       "      <td>79.0</td>\n",
       "      <td>86.0</td>\n",
       "      <td>44.0</td>\n",
       "      <td>82.0</td>\n",
       "      <td>86.0</td>\n",
       "      <td>81.4</td>\n",
       "      <td>81.6</td>\n",
       "      <td>84.8</td>\n",
       "      <td>80.666667</td>\n",
       "    </tr>\n",
       "    <tr>\n",
       "      <th>2</th>\n",
       "      <td>2</td>\n",
       "      <td>Cristiano Ronaldo</td>\n",
       "      <td>Cristiano Ronaldo dos Santos Aveiro</td>\n",
       "      <td>91</td>\n",
       "      <td>36</td>\n",
       "      <td>1985-02-05</td>\n",
       "      <td>187</td>\n",
       "      <td>83</td>\n",
       "      <td>ST</td>\n",
       "      <td>Forward</td>\n",
       "      <td>...</td>\n",
       "      <td>94.0</td>\n",
       "      <td>80.0</td>\n",
       "      <td>88.0</td>\n",
       "      <td>34.0</td>\n",
       "      <td>75.0</td>\n",
       "      <td>87.6</td>\n",
       "      <td>83.6</td>\n",
       "      <td>85.4</td>\n",
       "      <td>87.2</td>\n",
       "      <td>74.333333</td>\n",
       "    </tr>\n",
       "    <tr>\n",
       "      <th>3</th>\n",
       "      <td>3</td>\n",
       "      <td>Neymar Jr</td>\n",
       "      <td>Neymar da Silva Santos Júnior</td>\n",
       "      <td>91</td>\n",
       "      <td>29</td>\n",
       "      <td>1992-02-05</td>\n",
       "      <td>175</td>\n",
       "      <td>68</td>\n",
       "      <td>LW</td>\n",
       "      <td>Forward</td>\n",
       "      <td>...</td>\n",
       "      <td>83.0</td>\n",
       "      <td>86.0</td>\n",
       "      <td>94.0</td>\n",
       "      <td>37.0</td>\n",
       "      <td>63.0</td>\n",
       "      <td>80.6</td>\n",
       "      <td>89.2</td>\n",
       "      <td>90.2</td>\n",
       "      <td>71.8</td>\n",
       "      <td>77.000000</td>\n",
       "    </tr>\n",
       "    <tr>\n",
       "      <th>4</th>\n",
       "      <td>4</td>\n",
       "      <td>K. De Bruyne</td>\n",
       "      <td>Kevin De Bruyne</td>\n",
       "      <td>91</td>\n",
       "      <td>30</td>\n",
       "      <td>1991-06-28</td>\n",
       "      <td>181</td>\n",
       "      <td>70</td>\n",
       "      <td>RCM</td>\n",
       "      <td>Midfield</td>\n",
       "      <td>...</td>\n",
       "      <td>86.0</td>\n",
       "      <td>93.0</td>\n",
       "      <td>88.0</td>\n",
       "      <td>64.0</td>\n",
       "      <td>78.0</td>\n",
       "      <td>81.4</td>\n",
       "      <td>88.0</td>\n",
       "      <td>80.0</td>\n",
       "      <td>81.6</td>\n",
       "      <td>82.666667</td>\n",
       "    </tr>\n",
       "    <tr>\n",
       "      <th>...</th>\n",
       "      <td>...</td>\n",
       "      <td>...</td>\n",
       "      <td>...</td>\n",
       "      <td>...</td>\n",
       "      <td>...</td>\n",
       "      <td>...</td>\n",
       "      <td>...</td>\n",
       "      <td>...</td>\n",
       "      <td>...</td>\n",
       "      <td>...</td>\n",
       "      <td>...</td>\n",
       "      <td>...</td>\n",
       "      <td>...</td>\n",
       "      <td>...</td>\n",
       "      <td>...</td>\n",
       "      <td>...</td>\n",
       "      <td>...</td>\n",
       "      <td>...</td>\n",
       "      <td>...</td>\n",
       "      <td>...</td>\n",
       "      <td>...</td>\n",
       "    </tr>\n",
       "    <tr>\n",
       "      <th>647</th>\n",
       "      <td>647</td>\n",
       "      <td>T. Malacia</td>\n",
       "      <td>Tyrell Malacia</td>\n",
       "      <td>77</td>\n",
       "      <td>21</td>\n",
       "      <td>1999-08-17</td>\n",
       "      <td>169</td>\n",
       "      <td>67</td>\n",
       "      <td>LB</td>\n",
       "      <td>Defender</td>\n",
       "      <td>...</td>\n",
       "      <td>56.0</td>\n",
       "      <td>64.0</td>\n",
       "      <td>75.0</td>\n",
       "      <td>72.0</td>\n",
       "      <td>73.0</td>\n",
       "      <td>63.4</td>\n",
       "      <td>55.2</td>\n",
       "      <td>81.0</td>\n",
       "      <td>71.8</td>\n",
       "      <td>61.833333</td>\n",
       "    </tr>\n",
       "    <tr>\n",
       "      <th>648</th>\n",
       "      <td>648</td>\n",
       "      <td>Wilson Manafá</td>\n",
       "      <td>Wilson Miguéis Manafá Jancó</td>\n",
       "      <td>77</td>\n",
       "      <td>26</td>\n",
       "      <td>1994-07-23</td>\n",
       "      <td>177</td>\n",
       "      <td>69</td>\n",
       "      <td>LB</td>\n",
       "      <td>Defender</td>\n",
       "      <td>...</td>\n",
       "      <td>60.0</td>\n",
       "      <td>67.0</td>\n",
       "      <td>76.0</td>\n",
       "      <td>70.0</td>\n",
       "      <td>69.0</td>\n",
       "      <td>65.0</td>\n",
       "      <td>64.2</td>\n",
       "      <td>83.2</td>\n",
       "      <td>65.0</td>\n",
       "      <td>67.333333</td>\n",
       "    </tr>\n",
       "    <tr>\n",
       "      <th>649</th>\n",
       "      <td>649</td>\n",
       "      <td>J. Clauss</td>\n",
       "      <td>Jonathan Clauss</td>\n",
       "      <td>77</td>\n",
       "      <td>28</td>\n",
       "      <td>1992-09-25</td>\n",
       "      <td>178</td>\n",
       "      <td>67</td>\n",
       "      <td>RWB</td>\n",
       "      <td>Defender</td>\n",
       "      <td>...</td>\n",
       "      <td>66.0</td>\n",
       "      <td>70.0</td>\n",
       "      <td>76.0</td>\n",
       "      <td>67.0</td>\n",
       "      <td>71.0</td>\n",
       "      <td>66.0</td>\n",
       "      <td>67.0</td>\n",
       "      <td>80.0</td>\n",
       "      <td>71.4</td>\n",
       "      <td>64.166667</td>\n",
       "    </tr>\n",
       "    <tr>\n",
       "      <th>650</th>\n",
       "      <td>650</td>\n",
       "      <td>Galeno</td>\n",
       "      <td>Wenderson Rodrigues do Nascimento Galeno</td>\n",
       "      <td>77</td>\n",
       "      <td>23</td>\n",
       "      <td>1997-10-22</td>\n",
       "      <td>179</td>\n",
       "      <td>62</td>\n",
       "      <td>LM</td>\n",
       "      <td>Midfield</td>\n",
       "      <td>...</td>\n",
       "      <td>70.0</td>\n",
       "      <td>66.0</td>\n",
       "      <td>82.0</td>\n",
       "      <td>32.0</td>\n",
       "      <td>66.0</td>\n",
       "      <td>60.4</td>\n",
       "      <td>72.2</td>\n",
       "      <td>83.4</td>\n",
       "      <td>71.6</td>\n",
       "      <td>63.666667</td>\n",
       "    </tr>\n",
       "    <tr>\n",
       "      <th>651</th>\n",
       "      <td>651</td>\n",
       "      <td>J. Lascelles</td>\n",
       "      <td>Jamaal Lascelles</td>\n",
       "      <td>77</td>\n",
       "      <td>27</td>\n",
       "      <td>1993-11-11</td>\n",
       "      <td>188</td>\n",
       "      <td>83</td>\n",
       "      <td>CB</td>\n",
       "      <td>Defender</td>\n",
       "      <td>...</td>\n",
       "      <td>35.0</td>\n",
       "      <td>51.0</td>\n",
       "      <td>56.0</td>\n",
       "      <td>77.0</td>\n",
       "      <td>79.0</td>\n",
       "      <td>51.0</td>\n",
       "      <td>44.6</td>\n",
       "      <td>60.2</td>\n",
       "      <td>62.6</td>\n",
       "      <td>52.166667</td>\n",
       "    </tr>\n",
       "  </tbody>\n",
       "</table>\n",
       "<p>652 rows × 29 columns</p>\n",
       "</div>"
      ],
      "text/plain": [
       "     Unnamed: 0         short_name                                 long_name  \\\n",
       "0             0           L. Messi            Lionel Andrés Messi Cuccittini   \n",
       "1             1     R. Lewandowski                        Robert Lewandowski   \n",
       "2             2  Cristiano Ronaldo       Cristiano Ronaldo dos Santos Aveiro   \n",
       "3             3          Neymar Jr             Neymar da Silva Santos Júnior   \n",
       "4             4       K. De Bruyne                           Kevin De Bruyne   \n",
       "..          ...                ...                                       ...   \n",
       "647         647         T. Malacia                            Tyrell Malacia   \n",
       "648         648      Wilson Manafá               Wilson Miguéis Manafá Jancó   \n",
       "649         649          J. Clauss                           Jonathan Clauss   \n",
       "650         650             Galeno  Wenderson Rodrigues do Nascimento Galeno   \n",
       "651         651       J. Lascelles                          Jamaal Lascelles   \n",
       "\n",
       "     overall  age         dob  height_cm  weight_kg club_position  Position  \\\n",
       "0         93   34  1987-06-24        170         72            RW   Forward   \n",
       "1         92   32  1988-08-21        185         81            ST   Forward   \n",
       "2         91   36  1985-02-05        187         83            ST   Forward   \n",
       "3         91   29  1992-02-05        175         68            LW   Forward   \n",
       "4         91   30  1991-06-28        181         70           RCM  Midfield   \n",
       "..       ...  ...         ...        ...        ...           ...       ...   \n",
       "647       77   21  1999-08-17        169         67            LB  Defender   \n",
       "648       77   26  1994-07-23        177         69            LB  Defender   \n",
       "649       77   28  1992-09-25        178         67           RWB  Defender   \n",
       "650       77   23  1997-10-22        179         62            LM  Midfield   \n",
       "651       77   27  1993-11-11        188         83            CB  Defender   \n",
       "\n",
       "     ... shooting passing dribbling  defending physic  attacking  skill  \\\n",
       "0    ...     92.0    91.0      95.0       34.0   65.0       85.8   94.0   \n",
       "1    ...     92.0    79.0      86.0       44.0   82.0       86.0   81.4   \n",
       "2    ...     94.0    80.0      88.0       34.0   75.0       87.6   83.6   \n",
       "3    ...     83.0    86.0      94.0       37.0   63.0       80.6   89.2   \n",
       "4    ...     86.0    93.0      88.0       64.0   78.0       81.4   88.0   \n",
       "..   ...      ...     ...       ...        ...    ...        ...    ...   \n",
       "647  ...     56.0    64.0      75.0       72.0   73.0       63.4   55.2   \n",
       "648  ...     60.0    67.0      76.0       70.0   69.0       65.0   64.2   \n",
       "649  ...     66.0    70.0      76.0       67.0   71.0       66.0   67.0   \n",
       "650  ...     70.0    66.0      82.0       32.0   66.0       60.4   72.2   \n",
       "651  ...     35.0    51.0      56.0       77.0   79.0       51.0   44.6   \n",
       "\n",
       "    movement  power  mentality  \n",
       "0       90.2   77.8  73.833333  \n",
       "1       81.6   84.8  80.666667  \n",
       "2       85.4   87.2  74.333333  \n",
       "3       90.2   71.8  77.000000  \n",
       "4       80.0   81.6  82.666667  \n",
       "..       ...    ...        ...  \n",
       "647     81.0   71.8  61.833333  \n",
       "648     83.2   65.0  67.333333  \n",
       "649     80.0   71.4  64.166667  \n",
       "650     83.4   71.6  63.666667  \n",
       "651     60.2   62.6  52.166667  \n",
       "\n",
       "[652 rows x 29 columns]"
      ]
     },
     "execution_count": 60,
     "metadata": {},
     "output_type": "execute_result"
    }
   ],
   "source": [
    "df"
   ]
  },
  {
   "cell_type": "code",
   "execution_count": 61,
   "metadata": {},
   "outputs": [
    {
     "data": {
      "text/plain": [
       "652"
      ]
     },
     "execution_count": 61,
     "metadata": {},
     "output_type": "execute_result"
    }
   ],
   "source": [
    "df.height_cm.count()"
   ]
  },
  {
   "cell_type": "code",
   "execution_count": 62,
   "metadata": {},
   "outputs": [
    {
     "data": {
      "text/plain": [
       "count    652.000000\n",
       "mean     181.940184\n",
       "std        7.100623\n",
       "min      158.000000\n",
       "25%      177.000000\n",
       "50%      182.000000\n",
       "75%      187.000000\n",
       "max      201.000000\n",
       "Name: height_cm, dtype: float64"
      ]
     },
     "execution_count": 62,
     "metadata": {},
     "output_type": "execute_result"
    }
   ],
   "source": [
    "df.height_cm.describe()"
   ]
  },
  {
   "cell_type": "code",
   "execution_count": 63,
   "metadata": {},
   "outputs": [
    {
     "data": {
      "image/png": "[encoded data removed]",
      "text/plain": [
       "<Figure size 1000x600 with 1 Axes>"
      ]
     },
     "metadata": {},
     "output_type": "display_data"
    }
   ],
   "source": [
    "plt.figure(figsize=(10, 6))\n",
    "plt.hist(df.height_cm, bins=20, color='skyblue', edgecolor='black')\n",
    "plt.title('Histogram of Heights of 652 Players')\n",
    "plt.xlabel('Height (cm)')\n",
    "plt.ylabel('Frequency')\n",
    "plt.gca().spines[['right', 'top']].set_visible(False)\n",
    "plt.show()\n"
   ]
  },
  {
   "cell_type": "markdown",
   "metadata": {},
   "source": [
    "### Show bin edges"
   ]
  },
  {
   "cell_type": "code",
   "execution_count": 64,
   "metadata": {},
   "outputs": [
    {
     "data": {
      "text/plain": [
       "(array([158.  , 160.15, 162.3 , 164.45, 166.6 , 168.75, 170.9 , 173.05,\n",
       "        175.2 , 177.35, 179.5 , 181.65, 183.8 , 185.95, 188.1 , 190.25,\n",
       "        192.4 , 194.55, 196.7 , 198.85, 201.  ]),\n",
       " array([ 1.,  0.,  1.,  2.,  8., 30., 36., 54., 52., 57., 71., 63., 68.,\n",
       "        79., 49., 43., 16., 13.,  5.,  4.]))"
      ]
     },
     "execution_count": 64,
     "metadata": {},
     "output_type": "execute_result"
    },
    {
     "data": {
      "image/png": "[encoded data removed]",
      "text/plain": [
       "<Figure size 640x480 with 1 Axes>"
      ]
     },
     "metadata": {},
     "output_type": "display_data"
    }
   ],
   "source": [
    "counts, bin_edges, patches = plt.hist(df.height_cm, bins=20)\n",
    "\n",
    "bin_edges, counts"
   ]
  },
  {
   "cell_type": "code",
   "execution_count": 65,
   "metadata": {},
   "outputs": [
    {
     "data": {
      "text/plain": [
       "168"
      ]
     },
     "execution_count": 65,
     "metadata": {},
     "output_type": "execute_result"
    }
   ],
   "source": [
    "a = df.height_cm >= 185\n",
    "b = df.height_cm <= 190\n",
    "\n",
    "df[a & b].height_cm.count()"
   ]
  },
  {
   "cell_type": "markdown",
   "metadata": {},
   "source": [
    "### Dataset with outlier group"
   ]
  },
  {
   "cell_type": "code",
   "execution_count": 69,
   "metadata": {},
   "outputs": [
    {
     "data": {
      "image/png": "[encoded data removed]",
      "text/plain": [
       "<Figure size 640x480 with 1 Axes>"
      ]
     },
     "metadata": {},
     "output_type": "display_data"
    }
   ],
   "source": [
    "\n",
    "\n",
    "\n",
    "# Most data will be centered around the mean of 50 with a standard deviation of 10\n",
    "main_data = np.random.normal(50, 10, 1000)\n",
    "\n",
    "# Creating an outlier group centered around the mean of 100 with a standard deviation of 5\n",
    "outliers = np.random.normal(100, 5, 100)\n",
    "\n",
    "# Combining the main data with the outliers to create the final dataset\n",
    "dataset = np.concatenate((main_data, outliers))\n",
    "\n",
    "# Plotting the histogram of the dataset\n",
    "plt.hist(dataset, bins=30, color='skyblue', edgecolor='black')\n",
    "plt.title('Histogram with a specific Group')\n",
    "plt.xlabel('Value')\n",
    "plt.ylabel('Frequency')\n",
    "plt.gca().spines[['right', 'top']].set_visible(False)\n",
    "plt.show()\n"
   ]
  },
  {
   "cell_type": "code",
   "execution_count": 67,
   "metadata": {},
   "outputs": [
    {
     "data": {
      "text/plain": [
       "Index(['Unnamed: 0', 'short_name', 'long_name', 'overall', 'age', 'dob',\n",
       "       'height_cm', 'weight_kg', 'club_position', 'Position', 'club_name',\n",
       "       'league_name', 'nationality_name', 'club_jersey_number',\n",
       "       'preferred_foot', 'weak_foot', 'skill_moves', 'player_traits', 'pace',\n",
       "       'shooting', 'passing', 'dribbling', 'defending', 'physic', 'attacking',\n",
       "       'skill', 'movement', 'power', 'mentality'],\n",
       "      dtype='object')"
      ]
     },
     "execution_count": 67,
     "metadata": {},
     "output_type": "execute_result"
    }
   ],
   "source": [
    "df.columns"
   ]
  },
  {
   "cell_type": "code",
   "execution_count": 68,
   "metadata": {},
   "outputs": [
    {
     "data": {
      "image/png": "[encoded data removed]",
      "text/plain": [
       "<Figure size 1000x600 with 1 Axes>"
      ]
     },
     "metadata": {},
     "output_type": "display_data"
    }
   ],
   "source": [
    "\n",
    "average_skill = df.groupby('Position')['skill_moves'].mean()\n",
    "# Plot the average heights per league\n",
    "average_skill.sort_values(ascending=True).plot(kind='bar', figsize=(10, 6), color='skyblue', edgecolor='black')\n",
    "plt.title('Average skill_move point per position')\n",
    "plt.xlabel('Positions')\n",
    "plt.ylabel('Average skill_move points')\n",
    "plt.gca().spines[['right', 'top']].set_visible(False)\n",
    "plt.xticks(rotation=45)\n",
    "plt.show()"
   ]
  }
 ],
 "metadata": {
  "kernelspec": {
   "display_name": "Python 3",
   "language": "python",
   "name": "python3"
  },
  "language_info": {
   "codemirror_mode": {
    "name": "ipython",
    "version": 3
   },
   "file_extension": ".py",
   "mimetype": "text/x-python",
   "name": "python",
   "nbconvert_exporter": "python",
   "pygments_lexer": "ipython3",
   "version": "3.12.0"
  }
 },
 "nbformat": 4,
 "nbformat_minor": 2
}
