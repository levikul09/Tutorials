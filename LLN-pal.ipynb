{
 "cells": [
  {
   "cell_type": "code",
   "execution_count": 16,
   "metadata": {},
   "outputs": [],
   "source": [
    "import pandas as pd\n",
    "import matplotlib.pyplot as plt\n",
    "import numpy as np\n",
    "import random"
   ]
  },
  {
   "cell_type": "code",
   "execution_count": 41,
   "metadata": {},
   "outputs": [
    {
     "name": "stdout",
     "output_type": "stream",
     "text": [
      "3.5 3.61 3.472 3.4953 3.50706\n"
     ]
    }
   ],
   "source": [
    "print(\n",
    "    \n",
    "    np.random.randint(1,7,size=10).mean(),\n",
    "    np.random.randint(1,7,size=100).mean(),\n",
    "    np.random.randint(1,7,size=1000).mean(),\n",
    "    np.random.randint(1,7,size=10000).mean(),\n",
    "    np.random.randint(1,7,size=100000).mean(),\n",
    "\n",
    ")"
   ]
  },
  {
   "cell_type": "code",
   "execution_count": 17,
   "metadata": {},
   "outputs": [],
   "source": [
    "chance=1/8.5 + 1/16 + 1/31 + 1/21 + 1/301 + 1/40801 + 1/408001 + 1/2550001"
   ]
  },
  {
   "cell_type": "code",
   "execution_count": 44,
   "metadata": {},
   "outputs": [
    {
     "name": "stdout",
     "output_type": "stream",
     "text": [
      "69.5 85.85 67.355 67.8495 67.3585 77.446735 76.080344\n"
     ]
    }
   ],
   "source": [
    "print(\n",
    "    np.mean(random.choices([0,150, 200, 300, 500, 1000, 10000, 100000, 20000000],weights=[1-chance,1/8.5,1/16,1/31,1/21,1/301,1/40801,1/408001,1/2550001], k=100)),\n",
    "    np.mean(random.choices([0,150, 200, 300, 500, 1000, 10000, 100000, 20000000],weights=[1-chance,1/8.5,1/16,1/31,1/21,1/301,1/40801,1/408001,1/2550001], k=1000)),\n",
    "    np.mean(random.choices([0,150, 200, 300, 500, 1000, 10000, 100000, 20000000],weights=[1-chance,1/8.5,1/16,1/31,1/21,1/301,1/40801,1/408001,1/2550001], k=10000)),\n",
    "    np.mean(random.choices([0,150, 200, 300, 500, 1000, 10000, 100000, 20000000],weights=[1-chance,1/8.5,1/16,1/31,1/21,1/301,1/40801,1/408001,1/2550001], k=100000)),\n",
    "    np.mean(random.choices([0,150, 200, 300, 500, 1000, 10000, 100000, 20000000],weights=[1-chance,1/8.5,1/16,1/31,1/21,1/301,1/40801,1/408001,1/2550001], k=1000000)),\n",
    "    np.mean(random.choices([0,150, 200, 300, 500, 1000, 10000, 100000, 20000000],weights=[1-chance,1/8.5,1/16,1/31,1/21,1/301,1/40801,1/408001,1/2550001], k=10000000)),\n",
    "    np.mean(random.choices([0,150, 200, 300, 500, 1000, 10000, 100000, 20000000],weights=[1-chance,1/8.5,1/16,1/31,1/21,1/301,1/40801,1/408001,1/2550001], k=100000000)),\n",
    ")"
   ]
  },
  {
   "cell_type": "code",
   "execution_count": null,
   "metadata": {},
   "outputs": [],
   "source": []
  }
 ],
 "metadata": {
  "kernelspec": {
   "display_name": "dse",
   "language": "python",
   "name": "python3"
  },
  "language_info": {
   "codemirror_mode": {
    "name": "ipython",
    "version": 3
   },
   "file_extension": ".py",
   "mimetype": "text/x-python",
   "name": "python",
   "nbconvert_exporter": "python",
   "pygments_lexer": "ipython3",
   "version": "3.11.3"
  },
  "orig_nbformat": 4
 },
 "nbformat": 4,
 "nbformat_minor": 2
}
