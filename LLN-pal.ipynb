{
 "cells": [
  {
   "cell_type": "code",
   "execution_count": 1,
   "metadata": {},
   "outputs": [],
   "source": [
    "import pandas as pd\n",
    "import matplotlib.pyplot as plt\n",
    "import numpy as np\n",
    "import random"
   ]
  },
  {
   "cell_type": "code",
   "execution_count": 2,
   "metadata": {},
   "outputs": [
    {
     "name": "stdout",
     "output_type": "stream",
     "text": [
      "3.6 3.58 3.498 3.4888 3.50141\n"
     ]
    }
   ],
   "source": [
    "print(\n",
    "    \n",
    "    np.random.randint(1,7,size=10).mean(),\n",
    "    np.random.randint(1,7,size=100).mean(),\n",
    "    np.random.randint(1,7,size=1000).mean(),\n",
    "    np.random.randint(1,7,size=10000).mean(),\n",
    "    np.random.randint(1,7,size=100000).mean(),\n",
    "\n",
    ")"
   ]
  },
  {
   "cell_type": "code",
   "execution_count": 3,
   "metadata": {},
   "outputs": [],
   "source": [
    "chance=1/8.5 + 1/16 + 1/31 + 1/21 + 1/301 + 1/40801 + 1/408001 + 1/2550001"
   ]
  },
  {
   "cell_type": "code",
   "execution_count": 4,
   "metadata": {},
   "outputs": [
    {
     "name": "stdout",
     "output_type": "stream",
     "text": [
      "85.5 68.75 67.87 67.066 67.5016 71.45492 75.6413915\n"
     ]
    }
   ],
   "source": [
    "print(\n",
    "    np.mean(random.choices([0,150, 200, 300, 500, 1000, 10000, 100000, 20000000],weights=[1-chance,1/8.5,1/16,1/31,1/21,1/301,1/40801,1/408001,1/2550001], k=100)),\n",
    "    np.mean(random.choices([0,150, 200, 300, 500, 1000, 10000, 100000, 20000000],weights=[1-chance,1/8.5,1/16,1/31,1/21,1/301,1/40801,1/408001,1/2550001], k=1000)),\n",
    "    np.mean(random.choices([0,150, 200, 300, 500, 1000, 10000, 100000, 20000000],weights=[1-chance,1/8.5,1/16,1/31,1/21,1/301,1/40801,1/408001,1/2550001], k=10000)),\n",
    "    np.mean(random.choices([0,150, 200, 300, 500, 1000, 10000, 100000, 20000000],weights=[1-chance,1/8.5,1/16,1/31,1/21,1/301,1/40801,1/408001,1/2550001], k=100000)),\n",
    "    np.mean(random.choices([0,150, 200, 300, 500, 1000, 10000, 100000, 20000000],weights=[1-chance,1/8.5,1/16,1/31,1/21,1/301,1/40801,1/408001,1/2550001], k=1000000)),\n",
    "    np.mean(random.choices([0,150, 200, 300, 500, 1000, 10000, 100000, 20000000],weights=[1-chance,1/8.5,1/16,1/31,1/21,1/301,1/40801,1/408001,1/2550001], k=10000000)),\n",
    "    np.mean(random.choices([0,150, 200, 300, 500, 1000, 10000, 100000, 20000000],weights=[1-chance,1/8.5,1/16,1/31,1/21,1/301,1/40801,1/408001,1/2550001], k=100000000)),\n",
    ")"
   ]
  },
  {
   "cell_type": "code",
   "execution_count": null,
   "metadata": {},
   "outputs": [],
   "source": []
  }
 ],
 "metadata": {
  "kernelspec": {
   "display_name": "dse",
   "language": "python",
   "name": "python3"
  },
  "language_info": {
   "codemirror_mode": {
    "name": "ipython",
    "version": 3
   },
   "file_extension": ".py",
   "mimetype": "text/x-python",
   "name": "python",
   "nbconvert_exporter": "python",
   "pygments_lexer": "ipython3",
   "version": "3.11.3"
  },
  "orig_nbformat": 4
 },
 "nbformat": 4,
 "nbformat_minor": 2
}
