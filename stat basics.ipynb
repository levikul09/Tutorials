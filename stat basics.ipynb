{
 "cells": [
  {
   "cell_type": "code",
   "execution_count": 1,
   "metadata": {},
   "outputs": [],
   "source": [
    "import pandas as pd\n",
    "import matplotlib.pyplot as plt\n",
    "import numpy as np"
   ]
  },
  {
   "cell_type": "code",
   "execution_count": 74,
   "metadata": {},
   "outputs": [],
   "source": [
    "# Create a list called y with 15 random integers between 0 and 100\n",
    "\n",
    "x = np.random.randint(0, 100, 13)\n",
    "\n",
    "# Create a list called x with 15 zeros\n",
    "\n",
    "y = np.zeros(15)"
   ]
  },
  {
   "cell_type": "code",
   "execution_count": 75,
   "metadata": {},
   "outputs": [
    {
     "data": {
      "text/plain": [
       "array([24, 63, 64, 83, 10, 26, 14, 72, 38, 33, 62, 58, 38])"
      ]
     },
     "execution_count": 75,
     "metadata": {},
     "output_type": "execute_result"
    }
   ],
   "source": [
    "x"
   ]
  },
  {
   "cell_type": "code",
   "execution_count": 77,
   "metadata": {},
   "outputs": [
    {
     "data": {
      "text/plain": [
       "array([24, 63, 64, 83, 10, 26, 14, 72, 38, 33, 62, 58, 38, 44, 44])"
      ]
     },
     "execution_count": 77,
     "metadata": {},
     "output_type": "execute_result"
    }
   ],
   "source": [
    "x= np.append(x, 44)\n",
    "\n",
    "x"
   ]
  },
  {
   "cell_type": "code",
   "execution_count": 111,
   "metadata": {},
   "outputs": [
    {
     "data": {
      "image/png": "[encoded data removed]",
      "text/plain": [
       "<Figure size 500x220 with 1 Axes>"
      ]
     },
     "metadata": {},
     "output_type": "display_data"
    }
   ],
   "source": [
    "# plot x and y on scatter plot\n",
    "\n",
    "fig, ax=plt.subplots(figsize=(5,2.2))\n",
    "\n",
    "plt.scatter(x, y, s=500, linewidth=2, color='#FFEC99', edgecolors='#F08C00')\n",
    "\n",
    "\n",
    "\n",
    "plt.gca().get_yaxis().set_visible(False)\n",
    "\n",
    "plt.gca().spines[['right', 'top', 'left']].set_visible(False)\n",
    "\n",
    "# x axis should be 0 20 40 60 80\n",
    "\n",
    "plt.xticks([20, 40, 60, 80], [20, 40, 60, 80])\n",
    "\n",
    "# plot vertical line with mean\n",
    "\n",
    "plt.vlines(np.mean(x),ymin=-0.04, ymax=0.04, color='red', linestyle='--')\n",
    "\n",
    "\n",
    "plt.gca().spines['bottom'].set_position(('data', -0.01))\n",
    "\n"
   ]
  },
  {
   "cell_type": "code",
   "execution_count": null,
   "metadata": {},
   "outputs": [],
   "source": []
  },
  {
   "cell_type": "code",
   "execution_count": null,
   "metadata": {},
   "outputs": [],
   "source": []
  },
  {
   "cell_type": "code",
   "execution_count": null,
   "metadata": {},
   "outputs": [],
   "source": []
  },
  {
   "cell_type": "code",
   "execution_count": null,
   "metadata": {},
   "outputs": [],
   "source": []
  }
 ],
 "metadata": {
  "kernelspec": {
   "display_name": "dse",
   "language": "python",
   "name": "python3"
  },
  "language_info": {
   "codemirror_mode": {
    "name": "ipython",
    "version": 3
   },
   "file_extension": ".py",
   "mimetype": "text/x-python",
   "name": "python",
   "nbconvert_exporter": "python",
   "pygments_lexer": "ipython3",
   "version": "3.11.3"
  },
  "orig_nbformat": 4
 },
 "nbformat": 4,
 "nbformat_minor": 2
}
