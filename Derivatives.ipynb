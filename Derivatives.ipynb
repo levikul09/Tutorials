{
 "cells": [
  {
   "attachments": {},
   "cell_type": "markdown",
   "metadata": {},
   "source": [
    "# Calculate derivatives in Python"
   ]
  },
  {
   "cell_type": "code",
   "execution_count": 71,
   "metadata": {},
   "outputs": [],
   "source": [
    "import sympy as sym"
   ]
  },
  {
   "cell_type": "code",
   "execution_count": 72,
   "metadata": {},
   "outputs": [
    {
     "data": {
      "text/latex": [
       "$\\displaystyle \\frac{d}{d x} \\left(x^{3} + 3 x - 2\\right)$"
      ],
      "text/plain": [
       "Derivative(x**3 + 3*x - 2, x)"
      ]
     },
     "execution_count": 72,
     "metadata": {},
     "output_type": "execute_result"
    }
   ],
   "source": [
    "x = sym.Symbol('x') # Symbolize X\n",
    "\n",
    "func= x**3+3*x-2    # Function\n",
    "\n",
    "sym.Derivative(func, x) # Derivative expression"
   ]
  },
  {
   "cell_type": "code",
   "execution_count": 73,
   "metadata": {},
   "outputs": [
    {
     "data": {
      "text/latex": [
       "$\\displaystyle 3 x^{2} + 3$"
      ],
      "text/plain": [
       "3*x**2 + 3"
      ]
     },
     "execution_count": 73,
     "metadata": {},
     "output_type": "execute_result"
    }
   ],
   "source": [
    "sym.Derivative(func, x, evaluate=True) # Calculate derivative of func"
   ]
  },
  {
   "cell_type": "code",
   "execution_count": 74,
   "metadata": {},
   "outputs": [
    {
     "data": {
      "text/latex": [
       "$\\displaystyle 3 x^{2} + 3$"
      ],
      "text/plain": [
       "3*x**2 + 3"
      ]
     },
     "execution_count": 74,
     "metadata": {},
     "output_type": "execute_result"
    }
   ],
   "source": [
    "func.diff(x)    # Or use this for the same"
   ]
  },
  {
   "cell_type": "code",
   "execution_count": 75,
   "metadata": {},
   "outputs": [],
   "source": [
    "# Create functions with lambdify\n",
    "\n",
    "expr= sym.lambdify(x, func) \n",
    "\n",
    "expr_der=sym.lambdify(x, func.diff(x))"
   ]
  },
  {
   "cell_type": "code",
   "execution_count": 76,
   "metadata": {},
   "outputs": [
    {
     "name": "stdout",
     "output_type": "stream",
     "text": [
      "value of func at x=5: 138\n",
      "derivative of func at x=5: 78\n"
     ]
    }
   ],
   "source": [
    "print(f'value of func at x=5: {expr(5)}')\n",
    "print(f'derivative of func at x=5: {expr_der(5)}')"
   ]
  },
  {
   "attachments": {},
   "cell_type": "markdown",
   "metadata": {},
   "source": [
    "# Visualize derivatives in Python"
   ]
  },
  {
   "cell_type": "code",
   "execution_count": 77,
   "metadata": {},
   "outputs": [],
   "source": [
    "import numpy as np\n",
    "import pandas as pd\n",
    "import matplotlib.pyplot as plt"
   ]
  },
  {
   "cell_type": "code",
   "execution_count": 78,
   "metadata": {},
   "outputs": [
    {
     "data": {
      "image/png": "[encoded data removed]",
      "text/plain": [
       "<Figure size 432x288 with 1 Axes>"
      ]
     },
     "metadata": {
      "needs_background": "light"
     },
     "output_type": "display_data"
    }
   ],
   "source": [
    "values = np.linspace(-10, 10, 100) # Create values for the function\n",
    "\n",
    "#Plot the function\n",
    "plt.plot(values, expr(values))\n",
    "\n",
    "# Add points where we want to calculate derivative\n",
    "x1=-5       \n",
    "y1=expr(x1)\n",
    "\n",
    "# Define x range for tangent line\n",
    "xrange = np.linspace(x1-5, x1+5, 10)\n",
    "\n",
    "# Define tangent line\n",
    "# y = m*(x - x1) + y1\n",
    "def line(x, x1, y1): return expr_der(x1)*(x - x1) + y1\n",
    "\n",
    "# Add tangent and touching point\n",
    "plt.plot(xrange, line(xrange, x1, y1), '--')\n",
    "plt.scatter(x1, y1, s=50, c='C1');"
   ]
  },
  {
   "attachments": {},
   "cell_type": "markdown",
   "metadata": {},
   "source": [
    "# References\n",
    "\n",
    "- https://stackoverflow.com/questions/54961306/how-to-plot-the-slope-tangent-line-of-parabola-at-any-point\n",
    "- https://dev.to/erikwhiting88/calculate-derivative-functions-in-python-h58"
   ]
  }
 ],
 "metadata": {
  "kernelspec": {
   "display_name": "MLFenv",
   "language": "python",
   "name": "python3"
  },
  "language_info": {
   "codemirror_mode": {
    "name": "ipython",
    "version": 3
   },
   "file_extension": ".py",
   "mimetype": "text/x-python",
   "name": "python",
   "nbconvert_exporter": "python",
   "pygments_lexer": "ipython3",
   "version": "3.9.16"
  },
  "orig_nbformat": 4
 },
 "nbformat": 4,
 "nbformat_minor": 2
}
